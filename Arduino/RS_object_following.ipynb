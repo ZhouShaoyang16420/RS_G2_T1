{
 "cells": [
  {
   "cell_type": "markdown",
   "metadata": {},
   "source": [
    "## code for object follow without pid\n",
    "```c++\n",
    "#define L_PWM_PIN 10// l motor pwm\n",
    "#define L_DIR_PIN 16// l motor direction\n",
    "#define R_PWM_PIN  9// r motor pwm\n",
    "#define R_DIR_PIN 15// r motor direction\n",
    "int distance;\n",
    "#include <Wire.h>\n",
    "#include <VL6180X.h>\n",
    "\n",
    "VL6180X sensor;\n",
    "\n",
    "void setup() \n",
    "{\n",
    "  Serial.begin(9600);\n",
    "  Wire.begin();\n",
    "  \n",
    "  sensor.init();\n",
    "  sensor.configureDefault();\n",
    "  sensor.setTimeout(500);\n",
    "  pinMode( L_PWM_PIN, OUTPUT );\n",
    "  pinMode( L_DIR_PIN, OUTPUT );\n",
    "  pinMode( R_PWM_PIN, OUTPUT );\n",
    "  pinMode( R_DIR_PIN, OUTPUT );\n",
    "  \n",
    "  digitalWrite( L_DIR_PIN, LOW );\n",
    "  digitalWrite( R_DIR_PIN, LOW );\n",
    "  }\n",
    "// setting for motor and sensor\n",
    "void loop() \n",
    "{ \n",
    "  Serial.print(sensor.readRangeSingleMillimeters());\n",
    "  if (sensor.timeoutOccurred()) { Serial.print(\" TIMEOUT\"); }\n",
    "  distance = sensor.readRangeSingleMillimeters();\n",
    "  \n",
    "  if (distance>100){  analogWrite( L_PWM_PIN, 50 );\n",
    "  analogWrite( R_PWM_PIN, 50 );\n",
    "    }\n",
    "    else {  analogWrite( L_PWM_PIN, 0 );\n",
    "  analogWrite( R_PWM_PIN, 0 );\n",
    "      }\n",
    "   //esay if state to make romi follow the object\n",
    "  \n",
    "  \n",
    "  Serial.println();\n",
    "}\n",
    "```"
   ]
  }
 ],
 "metadata": {
  "kernelspec": {
   "display_name": "Python 3",
   "language": "python",
   "name": "python3"
  },
  "language_info": {
   "codemirror_mode": {
    "name": "ipython",
    "version": 3
   },
   "file_extension": ".py",
   "mimetype": "text/x-python",
   "name": "python",
   "nbconvert_exporter": "python",
   "pygments_lexer": "ipython3",
   "version": "3.8.6"
  }
 },
 "nbformat": 4,
 "nbformat_minor": 4
}
