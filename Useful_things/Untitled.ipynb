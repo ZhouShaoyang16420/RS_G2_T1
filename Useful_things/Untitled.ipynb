{
 "cells": [
  {
   "cell_type": "markdown",
   "metadata": {},
   "source": [
    "# Useful Things\n",
    "\n",
    "**This note provides some material might be useful for the tasks of our assessment**\n",
    "\n",
    "1.Useful youtube videos\n",
    "\n",
    "[3-in-1 Proximity sensor: VL6180X “Google Hangout on Thursday, March 26th”](https://www.youtube.com/watch?v=z67ZQhE1OLc)\n",
    "\n",
    "2.Useful papers for reference consideration\n",
    "\n",
    "\n",
    "3.Other materials might be helpful\n",
    "\n",
    "[VL6180X Proximity sensor and ambient light sensing (ALS) module](https://www.st.com/en/imaging-and-photonics-solutions/vl6180x.html#)\n",
    "\n",
    "\n",
    "[Optical Sensing:1D to 3D using Time-of-Flight Technology](https://www.st.com/content/ccc/resource/sales_and_marketing/presentation/product_presentation/98/64/10/dd/6f/15/4f/8a/time_of_flight_from_1Dto3D_VL6180X.pdf/files/time_of_flight_from_1Dto3D_VL6180X.pdf/jcr:content/translations/en.time_of_flight_from_1Dto3D_VL6180X.pdf)\n",
    "\n",
    "\n",
    "(Thing will be upload if we find something new)"
   ]
  },
  {
   "cell_type": "code",
   "execution_count": null,
   "metadata": {},
   "outputs": [],
   "source": []
  }
 ],
 "metadata": {
  "kernelspec": {
   "display_name": "Python 3",
   "language": "python",
   "name": "python3"
  },
  "language_info": {
   "codemirror_mode": {
    "name": "ipython",
    "version": 3
   },
   "file_extension": ".py",
   "mimetype": "text/x-python",
   "name": "python",
   "nbconvert_exporter": "python",
   "pygments_lexer": "ipython3",
   "version": "3.8.6"
  }
 },
 "nbformat": 4,
 "nbformat_minor": 4
}
