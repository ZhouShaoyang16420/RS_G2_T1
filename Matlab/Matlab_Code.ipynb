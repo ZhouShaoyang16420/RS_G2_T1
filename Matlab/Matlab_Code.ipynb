{
 "cells": [
  {
   "cell_type": "markdown",
   "metadata": {},
   "source": [
    "# Matlab Code\n",
    "\n",
    "## This code process the data we collected from our sensor\n",
    "\n",
    "#### Blcak color without control\n",
    "\n",
    "```cpp\n",
    "%% data collected from Black PVC\n",
    "a = [0 0 0 0 0];\n",
    "b = [50 47 49 46 48];\n",
    "c = [100 101 105 103 108];\n",
    "d = [147 146 148 149 145];\n",
    "e = [177 174 172 176 175];\n",
    "%% find mean \n",
    "A = mean(a);\n",
    "B = mean(b);\n",
    "C = mean(c);\n",
    "D = mean(d);\n",
    "E = mean(e);\n",
    "%% plot a graph for data analysis\n",
    "x = [0 5 10 15 20];\n",
    "y = [A B C D E];\n",
    "p = polyfit(x,y,1)\n",
    "x1 = x;\n",
    "y1 = polyval(p,x1); \n",
    "figure\n",
    "plot(x,y,'o')\n",
    "hold on \n",
    "plot(x1,y1)\n",
    "hold off\n",
    "```"
   ]
  }
 ],
 "metadata": {
  "kernelspec": {
   "display_name": "Python 3",
   "language": "python",
   "name": "python3"
  },
  "language_info": {
   "codemirror_mode": {
    "name": "ipython",
    "version": 3
   },
   "file_extension": ".py",
   "mimetype": "text/x-python",
   "name": "python",
   "nbconvert_exporter": "python",
   "pygments_lexer": "ipython3",
   "version": "3.8.6"
  }
 },
 "nbformat": 4,
 "nbformat_minor": 4
}
